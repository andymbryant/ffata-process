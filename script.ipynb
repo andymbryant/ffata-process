{
 "cells": [
  {
   "cell_type": "code",
   "execution_count": 13,
   "metadata": {},
   "outputs": [],
   "source": [
    "import pandas as pd\n",
    "import glob"
   ]
  },
  {
   "cell_type": "code",
   "execution_count": 14,
   "metadata": {},
   "outputs": [],
   "source": [
    "\n",
    "# Get filepaths from data directory for all csv files\n",
    "filepaths = glob.glob(\"./data/*.csv\")\n",
    "# Initialize dataframe\n",
    "output = pd.DataFrame()\n",
    "# Loop over filepaths\n",
    "for filepath in filepaths:\n",
    "    # Read csv data from file\n",
    "    df = pd.read_csv(filepath)\n",
    "    # Add the csv data from this file to existing dataframe (output variable)\n",
    "    output = pd.concat([output, df], ignore_index=True, sort=False)\n",
    "# Write result to csv file\n",
    "output.to_csv('./output/output.csv')"
   ]
  }
 ],
 "metadata": {
  "interpreter": {
   "hash": "20568db09ea5e12afb0d87e1c747254c820b0a10b8b02dd2e7141ff56f50d4ed"
  },
  "kernelspec": {
   "display_name": "Python 3.9.6 64-bit ('3.9.6': pyenv)",
   "language": "python",
   "name": "python3"
  },
  "language_info": {
   "codemirror_mode": {
    "name": "ipython",
    "version": 3
   },
   "file_extension": ".py",
   "mimetype": "text/x-python",
   "name": "python",
   "nbconvert_exporter": "python",
   "pygments_lexer": "ipython3",
   "version": "3.9.6"
  },
  "orig_nbformat": 4
 },
 "nbformat": 4,
 "nbformat_minor": 2
}
